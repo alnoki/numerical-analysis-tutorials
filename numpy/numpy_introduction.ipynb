{
 "cells": [
  {
   "cell_type": "markdown",
   "metadata": {
    "collapsed": true
   },
   "source": [
    "# numpy Introduction\n",
    " https://youtu.be/rN0TREj8G7U?list=PLeo1K3hjS3uset9zIVzJWqplaWBiacTEU"
   ]
  },
  {
   "cell_type": "code",
   "execution_count": 1,
   "metadata": {},
   "outputs": [
    {
     "data": {
      "text/html": [
       "<iframe width=\"400\" height=\"250\" src=\"https://www.youtube.com/embed/rN0TREj8G7U\" frameborder=\"0\" allowfullscreen></iframe>"
      ],
      "text/plain": [
       "<IPython.core.display.HTML object>"
      ]
     },
     "metadata": {},
     "output_type": "execute_result"
    }
   ],
   "source": [
    "%%HTML\n",
    "<iframe width=\"400\" height=\"250\" src=\"https://www.youtube.com/embed/rN0TREj8G7U\" frameborder=\"0\" allowfullscreen></iframe>"
   ]
  },
  {
   "cell_type": "markdown",
   "metadata": {},
   "source": [
    "# Import and general use\n",
    "numpy is usually imported as np\n",
    "An array is a type in numpy\n",
    "Elements can be accessed by index, etc"
   ]
  },
  {
   "cell_type": "code",
   "execution_count": 2,
   "metadata": {},
   "outputs": [
    {
     "data": {
      "text/plain": [
       "array([1, 2, 3])"
      ]
     },
     "execution_count": 2,
     "metadata": {},
     "output_type": "execute_result"
    }
   ],
   "source": [
    "import numpy as np\n",
    "a = np.array([1, 2, 3])\n",
    "a"
   ]
  },
  {
   "cell_type": "code",
   "execution_count": 3,
   "metadata": {},
   "outputs": [
    {
     "data": {
      "text/plain": [
       "(1, 2)"
      ]
     },
     "execution_count": 3,
     "metadata": {},
     "output_type": "execute_result"
    }
   ],
   "source": [
    "a[0], a[1]"
   ]
  },
  {
   "cell_type": "markdown",
   "metadata": {},
   "source": [
    "# Array advantages\n",
    "Compared with a Python list, arrays are\n",
    "1. Less memory\n",
    "2. Faster\n",
    "3. Convenient\n",
    "\n",
    "## Less memory\n",
    "Inspect the size of each style of array below. Use the size of 5, a string literal, times the number of elements in the list 'l', and likewise, do the same for a numpy array range - an 'arange'"
   ]
  },
  {
   "cell_type": "code",
   "execution_count": 8,
   "metadata": {},
   "outputs": [
    {
     "name": "stdout",
     "output_type": "stream",
     "text": [
      "28000\n",
      "4000\n"
     ]
    }
   ],
   "source": [
    "import sys\n",
    "l = range(1000)\n",
    "print(sys.getsizeof(5) * len(l))\n",
    "array = np.arange(1000)\n",
    "print(array.size * array.itemsize)"
   ]
  },
  {
   "cell_type": "markdown",
   "metadata": {},
   "source": [
    "# Faster\n",
    "See below how running an add operation for a regular list took over 50 times faster than than of a numpy arange addition.\n",
    "### Execution problem note\n",
    "The timeit cell magic is used to demonstrate Jupyter functionality, DO NOT run it unless SIZE is 1000 or less"
   ]
  },
  {
   "cell_type": "code",
   "execution_count": 21,
   "metadata": {},
   "outputs": [
    {
     "name": "stdout",
     "output_type": "stream",
     "text": [
      "python list took:  95.60751914978027\n",
      "numpy list took:  15.040874481201172\n"
     ]
    }
   ],
   "source": [
    "import time\n",
    "SIZE = 1000000\n",
    "\n",
    "l1 = range(SIZE)\n",
    "l2 = range(SIZE)\n",
    "\n",
    "a1 = np.arange(SIZE)\n",
    "a2 = np.arange(SIZE)\n",
    "\n",
    "start = time.time()\n",
    "result = [(x + y) for x,y in zip(l1, l2)]\n",
    "print(\"python list took: \", (time.time() - start) * 1000)\n",
    "\n",
    "start = time.time()\n",
    "result = a1 + a2\n",
    "print(\"numpy list took: \", (time.time() - start) * 1000)"
   ]
  },
  {
   "cell_type": "code",
   "execution_count": 18,
   "metadata": {},
   "outputs": [
    {
     "name": "stdout",
     "output_type": "stream",
     "text": [
      "74.2 µs ± 697 ns per loop (mean ± std. dev. of 7 runs, 10000 loops each)\n"
     ]
    }
   ],
   "source": [
    "%%timeit\n",
    "result = [(x + y) for x, y in zip(l1, l2)]"
   ]
  },
  {
   "cell_type": "code",
   "execution_count": 20,
   "metadata": {},
   "outputs": [
    {
     "name": "stdout",
     "output_type": "stream",
     "text": [
      "1.18 µs ± 28.9 ns per loop (mean ± std. dev. of 7 runs, 1000000 loops each)\n"
     ]
    }
   ],
   "source": [
    "%%timeit\n",
    "result = a1 + a2"
   ]
  },
  {
   "cell_type": "markdown",
   "metadata": {},
   "source": [
    "# Resume at\n",
    "https://youtu.be/rN0TREj8G7U?list=PLeo1K3hjS3uset9zIVzJWqplaWBiacTEU&t=559"
   ]
  }
 ],
 "metadata": {
  "kernelspec": {
   "display_name": "Python 3",
   "language": "python",
   "name": "python3"
  },
  "language_info": {
   "codemirror_mode": {
    "name": "ipython",
    "version": 3
   },
   "file_extension": ".py",
   "mimetype": "text/x-python",
   "name": "python",
   "nbconvert_exporter": "python",
   "pygments_lexer": "ipython3",
   "version": "3.7.0"
  }
 },
 "nbformat": 4,
 "nbformat_minor": 1
}
